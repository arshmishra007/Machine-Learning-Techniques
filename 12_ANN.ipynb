{
 "cells": [
  {
   "cell_type": "markdown",
   "metadata": {},
   "source": [
    "# Artificial Neural Network"
   ]
  },
  {
   "cell_type": "code",
   "execution_count": 1,
   "metadata": {},
   "outputs": [],
   "source": [
    "#importing the libraries\n",
    "import pandas as pd\n",
    "import numpy as np\n",
    "import matplotlib.pyplot as plt\n",
    "import seaborn as sns"
   ]
  },
  {
   "cell_type": "code",
   "execution_count": 2,
   "metadata": {},
   "outputs": [],
   "source": [
    "# loading the dataset\n",
    "dataset = pd.read_csv(\"datasets/Churn_Modelling.csv\")"
   ]
  },
  {
   "cell_type": "code",
   "execution_count": 3,
   "metadata": {},
   "outputs": [
    {
     "data": {
      "text/html": [
       "<div>\n",
       "<style scoped>\n",
       "    .dataframe tbody tr th:only-of-type {\n",
       "        vertical-align: middle;\n",
       "    }\n",
       "\n",
       "    .dataframe tbody tr th {\n",
       "        vertical-align: top;\n",
       "    }\n",
       "\n",
       "    .dataframe thead th {\n",
       "        text-align: right;\n",
       "    }\n",
       "</style>\n",
       "<table border=\"1\" class=\"dataframe\">\n",
       "  <thead>\n",
       "    <tr style=\"text-align: right;\">\n",
       "      <th></th>\n",
       "      <th>RowNumber</th>\n",
       "      <th>CustomerId</th>\n",
       "      <th>Surname</th>\n",
       "      <th>CreditScore</th>\n",
       "      <th>Geography</th>\n",
       "      <th>Gender</th>\n",
       "      <th>Age</th>\n",
       "      <th>Tenure</th>\n",
       "      <th>Balance</th>\n",
       "      <th>NumOfProducts</th>\n",
       "      <th>HasCrCard</th>\n",
       "      <th>IsActiveMember</th>\n",
       "      <th>EstimatedSalary</th>\n",
       "      <th>Exited</th>\n",
       "    </tr>\n",
       "  </thead>\n",
       "  <tbody>\n",
       "    <tr>\n",
       "      <th>0</th>\n",
       "      <td>1</td>\n",
       "      <td>15634602</td>\n",
       "      <td>Hargrave</td>\n",
       "      <td>619</td>\n",
       "      <td>France</td>\n",
       "      <td>Female</td>\n",
       "      <td>42</td>\n",
       "      <td>2</td>\n",
       "      <td>0.00</td>\n",
       "      <td>1</td>\n",
       "      <td>1</td>\n",
       "      <td>1</td>\n",
       "      <td>101348.88</td>\n",
       "      <td>1</td>\n",
       "    </tr>\n",
       "    <tr>\n",
       "      <th>1</th>\n",
       "      <td>2</td>\n",
       "      <td>15647311</td>\n",
       "      <td>Hill</td>\n",
       "      <td>608</td>\n",
       "      <td>Spain</td>\n",
       "      <td>Female</td>\n",
       "      <td>41</td>\n",
       "      <td>1</td>\n",
       "      <td>83807.86</td>\n",
       "      <td>1</td>\n",
       "      <td>0</td>\n",
       "      <td>1</td>\n",
       "      <td>112542.58</td>\n",
       "      <td>0</td>\n",
       "    </tr>\n",
       "    <tr>\n",
       "      <th>2</th>\n",
       "      <td>3</td>\n",
       "      <td>15619304</td>\n",
       "      <td>Onio</td>\n",
       "      <td>502</td>\n",
       "      <td>France</td>\n",
       "      <td>Female</td>\n",
       "      <td>42</td>\n",
       "      <td>8</td>\n",
       "      <td>159660.80</td>\n",
       "      <td>3</td>\n",
       "      <td>1</td>\n",
       "      <td>0</td>\n",
       "      <td>113931.57</td>\n",
       "      <td>1</td>\n",
       "    </tr>\n",
       "    <tr>\n",
       "      <th>3</th>\n",
       "      <td>4</td>\n",
       "      <td>15701354</td>\n",
       "      <td>Boni</td>\n",
       "      <td>699</td>\n",
       "      <td>France</td>\n",
       "      <td>Female</td>\n",
       "      <td>39</td>\n",
       "      <td>1</td>\n",
       "      <td>0.00</td>\n",
       "      <td>2</td>\n",
       "      <td>0</td>\n",
       "      <td>0</td>\n",
       "      <td>93826.63</td>\n",
       "      <td>0</td>\n",
       "    </tr>\n",
       "    <tr>\n",
       "      <th>4</th>\n",
       "      <td>5</td>\n",
       "      <td>15737888</td>\n",
       "      <td>Mitchell</td>\n",
       "      <td>850</td>\n",
       "      <td>Spain</td>\n",
       "      <td>Female</td>\n",
       "      <td>43</td>\n",
       "      <td>2</td>\n",
       "      <td>125510.82</td>\n",
       "      <td>1</td>\n",
       "      <td>1</td>\n",
       "      <td>1</td>\n",
       "      <td>79084.10</td>\n",
       "      <td>0</td>\n",
       "    </tr>\n",
       "  </tbody>\n",
       "</table>\n",
       "</div>"
      ],
      "text/plain": [
       "   RowNumber  CustomerId   Surname  CreditScore Geography  Gender  Age  \\\n",
       "0          1    15634602  Hargrave          619    France  Female   42   \n",
       "1          2    15647311      Hill          608     Spain  Female   41   \n",
       "2          3    15619304      Onio          502    France  Female   42   \n",
       "3          4    15701354      Boni          699    France  Female   39   \n",
       "4          5    15737888  Mitchell          850     Spain  Female   43   \n",
       "\n",
       "   Tenure    Balance  NumOfProducts  HasCrCard  IsActiveMember  \\\n",
       "0       2       0.00              1          1               1   \n",
       "1       1   83807.86              1          0               1   \n",
       "2       8  159660.80              3          1               0   \n",
       "3       1       0.00              2          0               0   \n",
       "4       2  125510.82              1          1               1   \n",
       "\n",
       "   EstimatedSalary  Exited  \n",
       "0        101348.88       1  \n",
       "1        112542.58       0  \n",
       "2        113931.57       1  \n",
       "3         93826.63       0  \n",
       "4         79084.10       0  "
      ]
     },
     "execution_count": 3,
     "metadata": {},
     "output_type": "execute_result"
    }
   ],
   "source": [
    "dataset.head()"
   ]
  },
  {
   "cell_type": "code",
   "execution_count": 4,
   "metadata": {},
   "outputs": [
    {
     "name": "stdout",
     "output_type": "stream",
     "text": [
      "<class 'pandas.core.frame.DataFrame'>\n",
      "RangeIndex: 10000 entries, 0 to 9999\n",
      "Data columns (total 14 columns):\n",
      " #   Column           Non-Null Count  Dtype  \n",
      "---  ------           --------------  -----  \n",
      " 0   RowNumber        10000 non-null  int64  \n",
      " 1   CustomerId       10000 non-null  int64  \n",
      " 2   Surname          10000 non-null  object \n",
      " 3   CreditScore      10000 non-null  int64  \n",
      " 4   Geography        10000 non-null  object \n",
      " 5   Gender           10000 non-null  object \n",
      " 6   Age              10000 non-null  int64  \n",
      " 7   Tenure           10000 non-null  int64  \n",
      " 8   Balance          10000 non-null  float64\n",
      " 9   NumOfProducts    10000 non-null  int64  \n",
      " 10  HasCrCard        10000 non-null  int64  \n",
      " 11  IsActiveMember   10000 non-null  int64  \n",
      " 12  EstimatedSalary  10000 non-null  float64\n",
      " 13  Exited           10000 non-null  int64  \n",
      "dtypes: float64(2), int64(9), object(3)\n",
      "memory usage: 1.1+ MB\n"
     ]
    }
   ],
   "source": [
    "#let's see the data type of each variable\n",
    "dataset.info()"
   ]
  },
  {
   "cell_type": "code",
   "execution_count": 5,
   "metadata": {},
   "outputs": [],
   "source": [
    "# splitting the data in dependent and the independent features\n",
    "x = dataset.iloc[:,3:]\n",
    "y = dataset.iloc[:,13]"
   ]
  },
  {
   "cell_type": "code",
   "execution_count": 6,
   "metadata": {},
   "outputs": [],
   "source": [
    "# handling the categorical variable\n",
    "geo = pd.get_dummies(dataset['Geography'],drop_first=True)\n",
    "gen = pd.get_dummies(dataset['Gender'],drop_first=True)"
   ]
  },
  {
   "cell_type": "code",
   "execution_count": 10,
   "metadata": {},
   "outputs": [],
   "source": [
    "x = x.drop(['Geography','Gender'],axis=1)"
   ]
  },
  {
   "cell_type": "code",
   "execution_count": 11,
   "metadata": {},
   "outputs": [
    {
     "data": {
      "text/plain": [
       "Index(['CreditScore', 'Age', 'Tenure', 'Balance', 'NumOfProducts', 'HasCrCard',\n",
       "       'IsActiveMember', 'EstimatedSalary', 'Exited'],\n",
       "      dtype='object')"
      ]
     },
     "execution_count": 11,
     "metadata": {},
     "output_type": "execute_result"
    }
   ],
   "source": [
    "x.columns"
   ]
  },
  {
   "cell_type": "code",
   "execution_count": 12,
   "metadata": {},
   "outputs": [],
   "source": [
    "#performing the concatination\n",
    "x = pd.concat([x,geo,gen],axis=1)"
   ]
  },
  {
   "cell_type": "code",
   "execution_count": 13,
   "metadata": {},
   "outputs": [
    {
     "data": {
      "text/plain": [
       "CreditScore        0\n",
       "Age                0\n",
       "Tenure             0\n",
       "Balance            0\n",
       "NumOfProducts      0\n",
       "HasCrCard          0\n",
       "IsActiveMember     0\n",
       "EstimatedSalary    0\n",
       "Exited             0\n",
       "Germany            0\n",
       "Spain              0\n",
       "Male               0\n",
       "dtype: int64"
      ]
     },
     "execution_count": 13,
     "metadata": {},
     "output_type": "execute_result"
    }
   ],
   "source": [
    "#checking for the null values\n",
    "x.isnull().sum()"
   ]
  },
  {
   "cell_type": "code",
   "execution_count": 14,
   "metadata": {},
   "outputs": [
    {
     "data": {
      "text/plain": [
       "0"
      ]
     },
     "execution_count": 14,
     "metadata": {},
     "output_type": "execute_result"
    }
   ],
   "source": [
    "y.isnull().sum()"
   ]
  },
  {
   "cell_type": "code",
   "execution_count": 15,
   "metadata": {},
   "outputs": [],
   "source": [
    "#data splitting\n",
    "from sklearn.model_selection import train_test_split"
   ]
  },
  {
   "cell_type": "code",
   "execution_count": 17,
   "metadata": {},
   "outputs": [],
   "source": [
    "xtrain,xtest,ytrain,ytest = train_test_split(x,y,test_size=0.3,random_state=20)"
   ]
  },
  {
   "cell_type": "code",
   "execution_count": 18,
   "metadata": {},
   "outputs": [
    {
     "data": {
      "text/plain": [
       "(7000, 12)"
      ]
     },
     "execution_count": 18,
     "metadata": {},
     "output_type": "execute_result"
    }
   ],
   "source": [
    "xtrain.shape"
   ]
  },
  {
   "cell_type": "code",
   "execution_count": 19,
   "metadata": {},
   "outputs": [
    {
     "data": {
      "text/plain": [
       "(3000, 12)"
      ]
     },
     "execution_count": 19,
     "metadata": {},
     "output_type": "execute_result"
    }
   ],
   "source": [
    "xtest.shape"
   ]
  },
  {
   "cell_type": "code",
   "execution_count": 20,
   "metadata": {},
   "outputs": [],
   "source": [
    "# performing feature scaling\n",
    "from sklearn.preprocessing import StandardScaler"
   ]
  },
  {
   "cell_type": "code",
   "execution_count": 21,
   "metadata": {},
   "outputs": [],
   "source": [
    "sc = StandardScaler()"
   ]
  },
  {
   "cell_type": "code",
   "execution_count": 22,
   "metadata": {},
   "outputs": [],
   "source": [
    "train_data = sc.fit_transform(xtrain)\n",
    "test_data = sc.transform(xtest)"
   ]
  },
  {
   "cell_type": "code",
   "execution_count": 23,
   "metadata": {},
   "outputs": [],
   "source": [
    "# creating the Artificial Neural Network\n",
    "\n",
    "import keras\n",
    "from keras.models import Sequential\n",
    "from keras.layers import Dense\n",
    "from keras.layers import Dropout"
   ]
  },
  {
   "cell_type": "code",
   "execution_count": 24,
   "metadata": {},
   "outputs": [],
   "source": [
    "model = Sequential()"
   ]
  },
  {
   "cell_type": "code",
   "execution_count": 25,
   "metadata": {},
   "outputs": [],
   "source": [
    "# so an empty neural network is created\n",
    "# now we ill add layers to it"
   ]
  },
  {
   "cell_type": "code",
   "execution_count": 27,
   "metadata": {},
   "outputs": [],
   "source": [
    "model.add(Dense(units=6,kernel_initializer ='he_uniform',activation = 'relu',input_dim=12))"
   ]
  },
  {
   "cell_type": "code",
   "execution_count": 28,
   "metadata": {},
   "outputs": [],
   "source": [
    "model.add(Dropout(0.3))"
   ]
  },
  {
   "cell_type": "code",
   "execution_count": 29,
   "metadata": {},
   "outputs": [],
   "source": [
    "model.add(Dense(units=6,kernel_initializer ='he_uniform',activation = 'relu'))"
   ]
  },
  {
   "cell_type": "code",
   "execution_count": 32,
   "metadata": {},
   "outputs": [],
   "source": [
    "model.add(Dense(units=1,kernel_initializer='glorot_uniform',activation = 'sigmoid'))"
   ]
  },
  {
   "cell_type": "code",
   "execution_count": 33,
   "metadata": {},
   "outputs": [],
   "source": [
    "model.compile(optimizer = 'Adamax',loss='binary_crossentropy',metrics=['accuracy'])"
   ]
  },
  {
   "cell_type": "code",
   "execution_count": 34,
   "metadata": {},
   "outputs": [
    {
     "name": "stdout",
     "output_type": "stream",
     "text": [
      "Epoch 1/100\n",
      "469/469 [==============================] - 2s 5ms/step - loss: 0.7502 - accuracy: 0.5863 - val_loss: 0.5436 - val_accuracy: 0.7088\n",
      "Epoch 2/100\n",
      "469/469 [==============================] - 1s 3ms/step - loss: 0.5097 - accuracy: 0.7505 - val_loss: 0.4128 - val_accuracy: 0.8014\n",
      "Epoch 3/100\n",
      "469/469 [==============================] - 1s 3ms/step - loss: 0.4240 - accuracy: 0.8070 - val_loss: 0.3426 - val_accuracy: 0.8248\n",
      "Epoch 4/100\n",
      "469/469 [==============================] - 2s 3ms/step - loss: 0.3534 - accuracy: 0.8524 - val_loss: 0.2591 - val_accuracy: 0.9061\n",
      "Epoch 5/100\n",
      "469/469 [==============================] - 2s 3ms/step - loss: 0.2971 - accuracy: 0.8882 - val_loss: 0.1842 - val_accuracy: 0.9585\n",
      "Epoch 6/100\n",
      "469/469 [==============================] - 2s 3ms/step - loss: 0.2364 - accuracy: 0.9166 - val_loss: 0.1271 - val_accuracy: 0.9836\n",
      "Epoch 7/100\n",
      "469/469 [==============================] - 2s 3ms/step - loss: 0.2014 - accuracy: 0.9260 - val_loss: 0.0854 - val_accuracy: 0.9935\n",
      "Epoch 8/100\n",
      "469/469 [==============================] - 2s 3ms/step - loss: 0.1621 - accuracy: 0.9512 - val_loss: 0.0567 - val_accuracy: 0.9978\n",
      "Epoch 9/100\n",
      "469/469 [==============================] - 2s 3ms/step - loss: 0.1442 - accuracy: 0.9559 - val_loss: 0.0397 - val_accuracy: 0.9987\n",
      "Epoch 10/100\n",
      "469/469 [==============================] - 2s 3ms/step - loss: 0.1239 - accuracy: 0.9655 - val_loss: 0.0287 - val_accuracy: 0.9991\n",
      "Epoch 11/100\n",
      "469/469 [==============================] - 1s 3ms/step - loss: 0.1052 - accuracy: 0.9725 - val_loss: 0.0219 - val_accuracy: 0.9996\n",
      "Epoch 12/100\n",
      "469/469 [==============================] - 1s 3ms/step - loss: 0.0987 - accuracy: 0.9718 - val_loss: 0.0175 - val_accuracy: 1.0000\n",
      "Epoch 13/100\n",
      "469/469 [==============================] - 2s 3ms/step - loss: 0.0798 - accuracy: 0.9800 - val_loss: 0.0134 - val_accuracy: 1.0000\n",
      "Epoch 14/100\n",
      "469/469 [==============================] - 2s 3ms/step - loss: 0.0741 - accuracy: 0.9810 - val_loss: 0.0109 - val_accuracy: 1.0000\n",
      "Epoch 15/100\n",
      "469/469 [==============================] - 1s 3ms/step - loss: 0.0859 - accuracy: 0.9740 - val_loss: 0.0100 - val_accuracy: 1.0000\n",
      "Epoch 16/100\n",
      "469/469 [==============================] - 1s 3ms/step - loss: 0.0616 - accuracy: 0.9834 - val_loss: 0.0081 - val_accuracy: 1.0000\n",
      "Epoch 17/100\n",
      "469/469 [==============================] - 2s 3ms/step - loss: 0.0657 - accuracy: 0.9802 - val_loss: 0.0068 - val_accuracy: 1.0000\n",
      "Epoch 18/100\n",
      "469/469 [==============================] - 2s 3ms/step - loss: 0.0589 - accuracy: 0.9832 - val_loss: 0.0059 - val_accuracy: 1.0000\n",
      "Epoch 19/100\n",
      "469/469 [==============================] - 2s 3ms/step - loss: 0.0595 - accuracy: 0.9814 - val_loss: 0.0050 - val_accuracy: 1.0000\n",
      "Epoch 20/100\n",
      "469/469 [==============================] - 1s 3ms/step - loss: 0.0639 - accuracy: 0.9802 - val_loss: 0.0043 - val_accuracy: 1.0000\n",
      "Epoch 21/100\n",
      "469/469 [==============================] - 2s 3ms/step - loss: 0.0543 - accuracy: 0.9821 - val_loss: 0.0033 - val_accuracy: 1.0000\n",
      "Epoch 22/100\n",
      "469/469 [==============================] - 2s 3ms/step - loss: 0.0606 - accuracy: 0.9791 - val_loss: 0.0031 - val_accuracy: 1.0000\n",
      "Epoch 23/100\n",
      "469/469 [==============================] - 1s 3ms/step - loss: 0.0442 - accuracy: 0.9857 - val_loss: 0.0025 - val_accuracy: 1.0000\n",
      "Epoch 24/100\n",
      "469/469 [==============================] - 2s 3ms/step - loss: 0.0579 - accuracy: 0.9793 - val_loss: 0.0021 - val_accuracy: 1.0000\n",
      "Epoch 25/100\n",
      "469/469 [==============================] - 2s 3ms/step - loss: 0.0516 - accuracy: 0.9819 - val_loss: 0.0017 - val_accuracy: 1.0000\n",
      "Epoch 26/100\n",
      "469/469 [==============================] - 1s 3ms/step - loss: 0.0466 - accuracy: 0.9840 - val_loss: 0.0012 - val_accuracy: 1.0000\n",
      "Epoch 27/100\n",
      "469/469 [==============================] - 1s 3ms/step - loss: 0.0459 - accuracy: 0.9836 - val_loss: 9.2024e-04 - val_accuracy: 1.0000\n",
      "Epoch 28/100\n",
      "469/469 [==============================] - 1s 3ms/step - loss: 0.0454 - accuracy: 0.9829 - val_loss: 7.2834e-04 - val_accuracy: 1.0000\n",
      "Epoch 29/100\n",
      "469/469 [==============================] - 1s 3ms/step - loss: 0.0439 - accuracy: 0.9840 - val_loss: 5.8330e-04 - val_accuracy: 1.0000\n",
      "Epoch 30/100\n",
      "469/469 [==============================] - 2s 3ms/step - loss: 0.0488 - accuracy: 0.9802 - val_loss: 4.6461e-04 - val_accuracy: 1.0000\n",
      "Epoch 31/100\n",
      "469/469 [==============================] - 2s 3ms/step - loss: 0.0433 - accuracy: 0.9819 - val_loss: 3.7144e-04 - val_accuracy: 1.0000\n",
      "Epoch 32/100\n",
      "469/469 [==============================] - 1s 3ms/step - loss: 0.0478 - accuracy: 0.9804 - val_loss: 3.0513e-04 - val_accuracy: 1.0000\n",
      "Epoch 33/100\n",
      "469/469 [==============================] - 1s 3ms/step - loss: 0.0445 - accuracy: 0.9817 - val_loss: 2.2865e-04 - val_accuracy: 1.0000\n",
      "Epoch 34/100\n",
      "469/469 [==============================] - 2s 3ms/step - loss: 0.0455 - accuracy: 0.9804 - val_loss: 1.7905e-04 - val_accuracy: 1.0000\n",
      "Epoch 35/100\n",
      "469/469 [==============================] - 2s 3ms/step - loss: 0.0387 - accuracy: 0.9827 - val_loss: 1.3500e-04 - val_accuracy: 1.0000\n",
      "Epoch 36/100\n",
      "469/469 [==============================] - 1s 3ms/step - loss: 0.0411 - accuracy: 0.9859 - val_loss: 9.6010e-05 - val_accuracy: 1.0000\n",
      "Epoch 37/100\n",
      "469/469 [==============================] - 2s 3ms/step - loss: 0.0399 - accuracy: 0.9872 - val_loss: 7.0432e-05 - val_accuracy: 1.0000\n",
      "Epoch 38/100\n",
      "469/469 [==============================] - 2s 4ms/step - loss: 0.0383 - accuracy: 0.9900 - val_loss: 5.2721e-05 - val_accuracy: 1.0000\n",
      "Epoch 39/100\n",
      "469/469 [==============================] - 2s 4ms/step - loss: 0.0348 - accuracy: 0.9915 - val_loss: 4.0256e-05 - val_accuracy: 1.0000\n",
      "Epoch 40/100\n",
      "469/469 [==============================] - 2s 4ms/step - loss: 0.0372 - accuracy: 0.9919 - val_loss: 3.0486e-05 - val_accuracy: 1.0000\n",
      "Epoch 41/100\n",
      "469/469 [==============================] - 2s 3ms/step - loss: 0.0325 - accuracy: 0.9930 - val_loss: 2.2748e-05 - val_accuracy: 1.0000\n",
      "Epoch 42/100\n",
      "469/469 [==============================] - 2s 4ms/step - loss: 0.0337 - accuracy: 0.9923 - val_loss: 1.7039e-05 - val_accuracy: 1.0000\n",
      "Epoch 43/100\n",
      "469/469 [==============================] - 2s 4ms/step - loss: 0.0334 - accuracy: 0.9913 - val_loss: 1.3239e-05 - val_accuracy: 1.0000\n",
      "Epoch 44/100\n",
      "469/469 [==============================] - 2s 4ms/step - loss: 0.0354 - accuracy: 0.9917 - val_loss: 1.0463e-05 - val_accuracy: 1.0000\n",
      "Epoch 45/100\n",
      "469/469 [==============================] - 2s 4ms/step - loss: 0.0310 - accuracy: 0.9934 - val_loss: 8.1769e-06 - val_accuracy: 1.0000\n",
      "Epoch 46/100\n",
      "469/469 [==============================] - 2s 4ms/step - loss: 0.0221 - accuracy: 0.9955 - val_loss: 6.1267e-06 - val_accuracy: 1.0000\n",
      "Epoch 47/100\n",
      "469/469 [==============================] - 2s 4ms/step - loss: 0.0329 - accuracy: 0.9917 - val_loss: 4.9206e-06 - val_accuracy: 1.0000\n",
      "Epoch 48/100\n",
      "469/469 [==============================] - 2s 4ms/step - loss: 0.0333 - accuracy: 0.9925 - val_loss: 3.8281e-06 - val_accuracy: 1.0000\n",
      "Epoch 49/100\n",
      "469/469 [==============================] - 2s 3ms/step - loss: 0.0307 - accuracy: 0.9932 - val_loss: 2.9265e-06 - val_accuracy: 1.0000\n",
      "Epoch 50/100\n",
      "469/469 [==============================] - 2s 4ms/step - loss: 0.0330 - accuracy: 0.9925 - val_loss: 2.2009e-06 - val_accuracy: 1.0000\n",
      "Epoch 51/100\n",
      "469/469 [==============================] - 2s 4ms/step - loss: 0.0319 - accuracy: 0.9930 - val_loss: 1.6342e-06 - val_accuracy: 1.0000\n",
      "Epoch 52/100\n",
      "469/469 [==============================] - 1s 3ms/step - loss: 0.0247 - accuracy: 0.9951 - val_loss: 1.2538e-06 - val_accuracy: 1.0000\n",
      "Epoch 53/100\n",
      "469/469 [==============================] - 2s 3ms/step - loss: 0.0269 - accuracy: 0.9938 - val_loss: 9.9893e-07 - val_accuracy: 1.0000\n",
      "Epoch 54/100\n",
      "469/469 [==============================] - 2s 4ms/step - loss: 0.0321 - accuracy: 0.9927 - val_loss: 8.1196e-07 - val_accuracy: 1.0000\n",
      "Epoch 55/100\n",
      "469/469 [==============================] - 2s 3ms/step - loss: 0.0303 - accuracy: 0.9932 - val_loss: 6.7765e-07 - val_accuracy: 1.0000\n",
      "Epoch 56/100\n",
      "469/469 [==============================] - 1s 3ms/step - loss: 0.0267 - accuracy: 0.9936 - val_loss: 5.4891e-07 - val_accuracy: 1.0000\n",
      "Epoch 57/100\n"
     ]
    },
    {
     "name": "stdout",
     "output_type": "stream",
     "text": [
      "469/469 [==============================] - 2s 4ms/step - loss: 0.0275 - accuracy: 0.9936 - val_loss: 4.3275e-07 - val_accuracy: 1.0000\n",
      "Epoch 58/100\n",
      "469/469 [==============================] - 2s 4ms/step - loss: 0.0281 - accuracy: 0.9932 - val_loss: 3.4343e-07 - val_accuracy: 1.0000\n",
      "Epoch 59/100\n",
      "469/469 [==============================] - 2s 3ms/step - loss: 0.0352 - accuracy: 0.9913 - val_loss: 2.8165e-07 - val_accuracy: 1.0000\n",
      "Epoch 60/100\n",
      "469/469 [==============================] - 2s 3ms/step - loss: 0.0275 - accuracy: 0.9934 - val_loss: 2.1857e-07 - val_accuracy: 1.0000\n",
      "Epoch 61/100\n",
      "469/469 [==============================] - 2s 3ms/step - loss: 0.0207 - accuracy: 0.9955 - val_loss: 1.6420e-07 - val_accuracy: 1.0000\n",
      "Epoch 62/100\n",
      "469/469 [==============================] - 1s 3ms/step - loss: 0.0276 - accuracy: 0.9938 - val_loss: 1.3336e-07 - val_accuracy: 1.0000\n",
      "Epoch 63/100\n",
      "469/469 [==============================] - 1s 3ms/step - loss: 0.0346 - accuracy: 0.9910 - val_loss: 1.1227e-07 - val_accuracy: 1.0000\n",
      "Epoch 64/100\n",
      "469/469 [==============================] - 1s 3ms/step - loss: 0.0274 - accuracy: 0.9934 - val_loss: 9.0449e-08 - val_accuracy: 1.0000\n",
      "Epoch 65/100\n",
      "469/469 [==============================] - 1s 3ms/step - loss: 0.0241 - accuracy: 0.9945 - val_loss: 7.2398e-08 - val_accuracy: 1.0000\n",
      "Epoch 66/100\n",
      "469/469 [==============================] - 1s 3ms/step - loss: 0.0230 - accuracy: 0.9947 - val_loss: 5.8514e-08 - val_accuracy: 1.0000\n",
      "Epoch 67/100\n",
      "469/469 [==============================] - 1s 3ms/step - loss: 0.0267 - accuracy: 0.9938 - val_loss: 4.9739e-08 - val_accuracy: 1.0000\n",
      "Epoch 68/100\n",
      "469/469 [==============================] - 1s 3ms/step - loss: 0.0200 - accuracy: 0.9959 - val_loss: 4.0910e-08 - val_accuracy: 1.0000\n",
      "Epoch 69/100\n",
      "469/469 [==============================] - 1s 3ms/step - loss: 0.0240 - accuracy: 0.9942 - val_loss: 3.5965e-08 - val_accuracy: 1.0000\n",
      "Epoch 70/100\n",
      "469/469 [==============================] - 1s 3ms/step - loss: 0.0273 - accuracy: 0.9934 - val_loss: 3.2474e-08 - val_accuracy: 1.0000\n",
      "Epoch 71/100\n",
      "469/469 [==============================] - 1s 3ms/step - loss: 0.0215 - accuracy: 0.9949 - val_loss: 2.8775e-08 - val_accuracy: 1.0000\n",
      "Epoch 72/100\n",
      "469/469 [==============================] - 1s 3ms/step - loss: 0.0244 - accuracy: 0.9942 - val_loss: 2.6103e-08 - val_accuracy: 1.0000\n",
      "Epoch 73/100\n",
      "469/469 [==============================] - 1s 3ms/step - loss: 0.0274 - accuracy: 0.9927 - val_loss: 2.4482e-08 - val_accuracy: 1.0000\n",
      "Epoch 74/100\n",
      "469/469 [==============================] - 1s 3ms/step - loss: 0.0213 - accuracy: 0.9947 - val_loss: 2.1858e-08 - val_accuracy: 1.0000\n",
      "Epoch 75/100\n",
      "469/469 [==============================] - 2s 3ms/step - loss: 0.0180 - accuracy: 0.9964 - val_loss: 1.9037e-08 - val_accuracy: 1.0000\n",
      "Epoch 76/100\n",
      "469/469 [==============================] - 2s 4ms/step - loss: 0.0246 - accuracy: 0.9940 - val_loss: 1.8103e-08 - val_accuracy: 1.0000\n",
      "Epoch 77/100\n",
      "469/469 [==============================] - 2s 3ms/step - loss: 0.0235 - accuracy: 0.9938 - val_loss: 1.7471e-08 - val_accuracy: 1.0000\n",
      "Epoch 78/100\n",
      "469/469 [==============================] - 2s 3ms/step - loss: 0.0237 - accuracy: 0.9942 - val_loss: 1.6717e-08 - val_accuracy: 1.0000\n",
      "Epoch 79/100\n",
      "469/469 [==============================] - 2s 4ms/step - loss: 0.0204 - accuracy: 0.9951 - val_loss: 1.5364e-08 - val_accuracy: 1.0000\n",
      "Epoch 80/100\n",
      "469/469 [==============================] - 2s 4ms/step - loss: 0.0268 - accuracy: 0.9930 - val_loss: 1.5134e-08 - val_accuracy: 1.0000\n",
      "Epoch 81/100\n",
      "469/469 [==============================] - 2s 4ms/step - loss: 0.0171 - accuracy: 0.9964 - val_loss: 1.3718e-08 - val_accuracy: 1.0000\n",
      "Epoch 82/100\n",
      "469/469 [==============================] - 2s 3ms/step - loss: 0.0215 - accuracy: 0.9951 - val_loss: 1.2946e-08 - val_accuracy: 1.0000\n",
      "Epoch 83/100\n",
      "469/469 [==============================] - 2s 4ms/step - loss: 0.0242 - accuracy: 0.9938 - val_loss: 1.2716e-08 - val_accuracy: 1.0000\n",
      "Epoch 84/100\n",
      "469/469 [==============================] - 2s 4ms/step - loss: 0.0249 - accuracy: 0.9938 - val_loss: 1.2282e-08 - val_accuracy: 1.0000\n",
      "Epoch 85/100\n",
      "469/469 [==============================] - 2s 4ms/step - loss: 0.0274 - accuracy: 0.9932 - val_loss: 1.2541e-08 - val_accuracy: 1.0000\n",
      "Epoch 86/100\n",
      "469/469 [==============================] - 2s 4ms/step - loss: 0.0219 - accuracy: 0.9947 - val_loss: 1.1946e-08 - val_accuracy: 1.0000\n",
      "Epoch 87/100\n",
      "469/469 [==============================] - 2s 3ms/step - loss: 0.0274 - accuracy: 0.9930 - val_loss: 1.2059e-08 - val_accuracy: 1.0000\n",
      "Epoch 88/100\n",
      "469/469 [==============================] - 2s 4ms/step - loss: 0.0240 - accuracy: 0.9942 - val_loss: 1.1690e-08 - val_accuracy: 1.0000\n",
      "Epoch 89/100\n",
      "469/469 [==============================] - 2s 4ms/step - loss: 0.0233 - accuracy: 0.9940 - val_loss: 1.1196e-08 - val_accuracy: 1.0000\n",
      "Epoch 90/100\n",
      "469/469 [==============================] - 2s 4ms/step - loss: 0.0191 - accuracy: 0.9959 - val_loss: 1.0131e-08 - val_accuracy: 1.0000\n",
      "Epoch 91/100\n",
      "469/469 [==============================] - 2s 4ms/step - loss: 0.0186 - accuracy: 0.9955 - val_loss: 9.5876e-09 - val_accuracy: 1.0000\n",
      "Epoch 92/100\n",
      "469/469 [==============================] - 2s 3ms/step - loss: 0.0250 - accuracy: 0.9936 - val_loss: 9.6576e-09 - val_accuracy: 1.0000\n",
      "Epoch 93/100\n",
      "469/469 [==============================] - 2s 4ms/step - loss: 0.0205 - accuracy: 0.9949 - val_loss: 9.0997e-09 - val_accuracy: 1.0000\n",
      "Epoch 94/100\n",
      "469/469 [==============================] - 2s 4ms/step - loss: 0.0198 - accuracy: 0.9951 - val_loss: 8.5743e-09 - val_accuracy: 1.0000\n",
      "Epoch 95/100\n",
      "469/469 [==============================] - 2s 4ms/step - loss: 0.0257 - accuracy: 0.9932 - val_loss: 8.7597e-09 - val_accuracy: 1.0000\n",
      "Epoch 96/100\n",
      "469/469 [==============================] - 2s 4ms/step - loss: 0.0247 - accuracy: 0.9936 - val_loss: 8.6825e-09 - val_accuracy: 1.0000\n",
      "Epoch 97/100\n",
      "469/469 [==============================] - 2s 4ms/step - loss: 0.0247 - accuracy: 0.9934 - val_loss: 8.8592e-09 - val_accuracy: 1.0000\n",
      "Epoch 98/100\n",
      "469/469 [==============================] - 2s 4ms/step - loss: 0.0172 - accuracy: 0.9959 - val_loss: 8.0145e-09 - val_accuracy: 1.0000\n",
      "Epoch 99/100\n",
      "469/469 [==============================] - 2s 4ms/step - loss: 0.0181 - accuracy: 0.9955 - val_loss: 7.3056e-09 - val_accuracy: 1.0000\n",
      "Epoch 100/100\n",
      "469/469 [==============================] - 2s 3ms/step - loss: 0.0202 - accuracy: 0.9949 - val_loss: 7.0944e-09 - val_accuracy: 1.0000\n"
     ]
    },
    {
     "data": {
      "text/plain": [
       "<tensorflow.python.keras.callbacks.History at 0x17eded46d48>"
      ]
     },
     "execution_count": 34,
     "metadata": {},
     "output_type": "execute_result"
    }
   ],
   "source": [
    "# fitting ann to the training set\n",
    "model.fit(train_data,ytrain,validation_split=0.33,batch_size=10,epochs=100)"
   ]
  },
  {
   "cell_type": "code",
   "execution_count": 35,
   "metadata": {},
   "outputs": [],
   "source": [
    "y_pred = model.predict(xtest)"
   ]
  },
  {
   "cell_type": "code",
   "execution_count": 43,
   "metadata": {},
   "outputs": [
    {
     "data": {
      "text/plain": [
       "(3000, 1)"
      ]
     },
     "execution_count": 43,
     "metadata": {},
     "output_type": "execute_result"
    }
   ],
   "source": [
    "y_pred.shape"
   ]
  },
  {
   "cell_type": "code",
   "execution_count": 44,
   "metadata": {},
   "outputs": [
    {
     "data": {
      "text/plain": [
       "(3000,)"
      ]
     },
     "execution_count": 44,
     "metadata": {},
     "output_type": "execute_result"
    }
   ],
   "source": [
    "ytest.shape"
   ]
  },
  {
   "cell_type": "code",
   "execution_count": 53,
   "metadata": {},
   "outputs": [],
   "source": [
    "y_predicted = np.reshape(y_pred,(-1,))"
   ]
  },
  {
   "cell_type": "code",
   "execution_count": 54,
   "metadata": {},
   "outputs": [
    {
     "data": {
      "text/plain": [
       "(3000,)"
      ]
     },
     "execution_count": 54,
     "metadata": {},
     "output_type": "execute_result"
    }
   ],
   "source": [
    "y_predicted.shape"
   ]
  },
  {
   "cell_type": "code",
   "execution_count": 55,
   "metadata": {},
   "outputs": [
    {
     "data": {
      "text/plain": [
       "1"
      ]
     },
     "execution_count": 55,
     "metadata": {},
     "output_type": "execute_result"
    }
   ],
   "source": [
    "ytest[0]"
   ]
  },
  {
   "cell_type": "code",
   "execution_count": 56,
   "metadata": {},
   "outputs": [
    {
     "data": {
      "text/plain": [
       "0.0"
      ]
     },
     "execution_count": 56,
     "metadata": {},
     "output_type": "execute_result"
    }
   ],
   "source": [
    "y_predicted[0]"
   ]
  },
  {
   "cell_type": "code",
   "execution_count": 57,
   "metadata": {},
   "outputs": [],
   "source": [
    "from sklearn.metrics import accuracy_score"
   ]
  },
  {
   "cell_type": "code",
   "execution_count": 61,
   "metadata": {},
   "outputs": [
    {
     "data": {
      "text/plain": [
       "0.765"
      ]
     },
     "execution_count": 61,
     "metadata": {},
     "output_type": "execute_result"
    }
   ],
   "source": [
    "accuracy_score(ytest, y_predicted.round())"
   ]
  },
  {
   "cell_type": "code",
   "execution_count": null,
   "metadata": {},
   "outputs": [],
   "source": []
  }
 ],
 "metadata": {
  "kernelspec": {
   "display_name": "Python 3",
   "language": "python",
   "name": "python3"
  },
  "language_info": {
   "codemirror_mode": {
    "name": "ipython",
    "version": 3
   },
   "file_extension": ".py",
   "mimetype": "text/x-python",
   "name": "python",
   "nbconvert_exporter": "python",
   "pygments_lexer": "ipython3",
   "version": "3.7.6"
  }
 },
 "nbformat": 4,
 "nbformat_minor": 4
}
